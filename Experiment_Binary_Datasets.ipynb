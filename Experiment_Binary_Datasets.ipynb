{
 "cells": [
  {
   "cell_type": "code",
   "execution_count": 1,
   "metadata": {},
   "outputs": [],
   "source": [
    "import os\n",
    "import time\n",
    "import numpy as np\n",
    "import pandas as pd\n",
    "import matplotlib.pyplot as plt\n",
    "\n",
    "from sklearn import datasets\n",
    "from sklearn.preprocessing import StandardScaler\n",
    "from sklearn.ensemble import BaggingClassifier, VotingClassifier\n",
    "from sklearn.pipeline import make_pipeline\n",
    "from sklearn.base import clone\n",
    "\n",
    "from sklearn.svm import SVC\n",
    "\n",
    "from sklearn.impute import SimpleImputer\n",
    "from sklearn.model_selection import cross_val_score, train_test_split, StratifiedKFold\n",
    "from sklearn.metrics import balanced_accuracy_score\n",
    "\n",
    "from rDEP import DEP, EnsembleTransform\n",
    "from morph import MLMP, SLMP, SLMPbox\n",
    "from extreme_learning_machine import HLM_ELM\n",
    "import morphological_dense_network as MDN"
   ]
  },
  {
   "cell_type": "code",
   "execution_count": 2,
   "metadata": {},
   "outputs": [],
   "source": [
    "import warnings\n",
    "warnings.filterwarnings(\"ignore\", category=DeprecationWarning)\n",
    "warnings.filterwarnings(\"ignore\", category=UserWarning)"
   ]
  },
  {
   "cell_type": "code",
   "execution_count": 3,
   "metadata": {},
   "outputs": [],
   "source": [
    "def EvalClassifiers(Name, Classifiers, X, y, n_splits=5, score = balanced_accuracy_score):\n",
    "    df = pd.DataFrame()\n",
    "    skf = StratifiedKFold(n_splits=n_splits, shuffle=True, random_state=1)\n",
    "    for train_index, test_index in skf.split(X, y):\n",
    "        df_sim = pd.DataFrame()\n",
    "        Xtr, Xte = X[train_index], X[test_index]\n",
    "        ytr, yte = y[train_index], y[test_index]\n",
    "        # Process the data\n",
    "        scaler = StandardScaler()\n",
    "        Xtr = scaler.fit_transform(Xtr)\n",
    "        Xte = scaler.transform(Xte)\n",
    "#         print(Xtr.shape, ytr.shape)\n",
    "        for name, clf in Classifiers:\n",
    "            try:\n",
    "                clone_clf = clone(clf)\n",
    "                clone_clf.fit(Xtr,ytr)\n",
    "                y_pred = clone_clf.predict(Xte)\n",
    "                df_sim[name] = [score(yte,y_pred)]\n",
    "            except Exception as e:\n",
    "                print(\"Classifier %s failed to process dataset %s\" % (name,Name))\n",
    "                print(e)\n",
    "        df = pd.concat([df,df_sim])\n",
    "        \n",
    "    df.to_csv(\"CSVs/%s.csv\" % Name)\n",
    "    print(df.mean())\n",
    "    return df"
   ]
  },
  {
   "cell_type": "code",
   "execution_count": 4,
   "metadata": {},
   "outputs": [],
   "source": [
    "VotingSVC = VotingClassifier([(\"RBF SVC\",SVC(gamma=\"scale\")),\n",
    "             (\"Linear SVC\",SVC(kernel=\"linear\")),\n",
    "             (\"Poly SVC\",SVC(kernel=\"poly\"))])\n",
    "BaggingSVC = BaggingClassifier(base_estimator=SVC(gamma=\"scale\"),n_estimators=10, random_state=0)\n",
    "BaggingMLMP = BaggingClassifier(base_estimator=MLMP(),n_estimators=10, random_state=0)"
   ]
  },
  {
   "cell_type": "code",
   "execution_count": 5,
   "metadata": {},
   "outputs": [],
   "source": [
    "Classifiers = [   \n",
    "                ('MLMP (Bagging)', BaggingMLMP), \n",
    "                ('MDN', MDN.MorphDense()),\n",
    "                ('HLM_ELM', HLM_ELM()),\n",
    "                ('MLMP', MLMP()),\n",
    "                ('SLMP', SLMP()),\n",
    "                ('SLMPbox', SLMPbox()),\n",
    "                (\"Linear SVC\",SVC(kernel=\"linear\",gamma=\"scale\")), \n",
    "                (\"RBF SVC\",SVC(gamma=\"scale\")),\n",
    "                (\"SVC Ensemble\",VotingSVC),\n",
    "                (\"Bagging SVC\",BaggingSVC),\n",
    "                (\"DEP\",DEP()),\n",
    "                (\"r-DEP (Ensemble)\",make_pipeline(EnsembleTransform(VotingSVC),StandardScaler(),DEP())),\n",
    "                (\"r-DEP (Bagging)\",make_pipeline(EnsembleTransform(BaggingSVC),StandardScaler(),DEP()))\n",
    "            ]"
   ]
  },
  {
   "cell_type": "code",
   "execution_count": 6,
   "metadata": {},
   "outputs": [],
   "source": [
    "AllDataSets = [\n",
    "    (\"Breast Cancer Wisconsin\",\"wdbc\",1),\n",
    "    (\"Diabetes\",\"diabetes\",1),\n",
    "    (\"Banknote\",\"banknote-authentication\",1),\n",
    "    (\"Spambase\",\"spambase\",1),\n",
    "    (\"Ionosphere\",\"ionosphere\",1),\n",
    "    (\"Colic\",\"colic\",2),\n",
    "    (\"Sonar\",\"sonar\",1),\n",
    "    (\"Tic-Tac-Toe\",\"tic-tac-toe\",1),\n",
    "    (\"Monks-2\",\"monks-problems-2\",1),\n",
    "    (\"Australian\",\"Australian\",4),\n",
    "    (\"Banana\",\"banana\",1),\n",
    "    (\"Cylinder Bands\",\"cylinder-bands\",2),\n",
    "    (\"Chess\",\"kr-vs-kp\",1),\n",
    "    (\"Haberman\",\"haberman\",1),\n",
    "    (\"Mushroom\",\"mushroom\",1),\n",
    "    (\"Phoneme\",\"phoneme\",1),\n",
    "    (\"Titanic\",\"Titanic\",2),\n",
    "    (\"Pishing Websites\",\"PhishingWebsites\",1),\n",
    "    (\"Internet Advertisements\",\"Internet-Advertisements\",2),\n",
    "    (\"Thoracic Surgery\",\"thoracic_surgery\",1),\n",
    "    (\"Credit Approval\",\"credit-approval\",1),\n",
    "    (\"Hill-Valley\",\"hill-valley\",1),\n",
    "#     (\"Egg-Eye-State\",\"eeg-eye-state\",1),\n",
    "    (\"MOFN-3-7-10\",\"mofn-3-7-10\",1),\n",
    "    (\"Credit-g\",\"credit-g\",1),\n",
    "    (\"Accute Inflammations\",\"acute-inflammations\",1),\n",
    "    (\"ilpd\",\"ilpd\",1),\n",
    "    (\"Arsene\",\"arcene\",1),\n",
    "    (\"Blood Transfusion\",\"blood-transfusion-service-center\",1),\n",
    "    (\"Steel Plates Fault\",\"steel-plates-fault\",1),\n",
    "    (\"Sick\",\"sick\",1)\n",
    "    ]"
   ]
  },
  {
   "cell_type": "code",
   "execution_count": 7,
   "metadata": {},
   "outputs": [],
   "source": [
    "if not os.path.exists(\"CSVs\"):\n",
    "    os.mkdir(\"CSVs\")\n",
    "    print(\"The directory CSVs has been created.\")"
   ]
  },
  {
   "cell_type": "code",
   "execution_count": null,
   "metadata": {
    "tags": [
     "outputPrepend"
    ]
   },
   "outputs": [
    {
     "name": "stdout",
     "output_type": "stream",
     "text": [
      "\n",
      "Processing dataset:  Arsene\n"
     ]
    }
   ],
   "source": [
    "data = pd.DataFrame()\n",
    "for name, dataset, version in AllDataSets:\n",
    "    start_time = time.time()\n",
    "    print(\"\\nProcessing dataset: \",name)\n",
    "    X, y = datasets.fetch_openml(dataset,version=version,return_X_y = True)\n",
    "    \n",
    "    # Imput missing data\n",
    "    X = SimpleImputer().fit_transform(X)\n",
    "    df = EvalClassifiers(name,Classifiers, X, y).rename(index={0:name})\n",
    "    # HoTdiagram(df, PlotName = name, significance_level = 0.95, Gaussian = True, NormalizeData=False)\n",
    "    data = pd.concat([data,df])\n",
    "    data.to_csv(\"CSVs/BinaryDataSets.csv\")\n",
    "    print(\"\\nTime to process the dataset: %2.2f seconds.\" % (time.time() - start_time))"
   ]
  },
  {
   "cell_type": "code",
   "execution_count": null,
   "metadata": {},
   "outputs": [],
   "source": []
  }
 ],
 "metadata": {
  "kernelspec": {
   "display_name": "IC",
   "language": "python",
   "name": "ic"
  },
  "language_info": {
   "codemirror_mode": {
    "name": "ipython",
    "version": 3
   },
   "file_extension": ".py",
   "mimetype": "text/x-python",
   "name": "python",
   "nbconvert_exporter": "python",
   "pygments_lexer": "ipython3",
   "version": "3.7.10"
  }
 },
 "nbformat": 4,
 "nbformat_minor": 4
}
